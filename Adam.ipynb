{
  "nbformat": 4,
  "nbformat_minor": 0,
  "metadata": {
    "colab": {
      "provenance": []
    },
    "kernelspec": {
      "name": "python3",
      "display_name": "Python 3"
    },
    "language_info": {
      "name": "python"
    }
  },
  "cells": [
    {
      "cell_type": "code",
      "execution_count": null,
      "metadata": {
        "id": "4f7flXspBGbG"
      },
      "outputs": [],
      "source": [
        "import tensorflow as tf\n",
        "\n",
        "def createModel(input_shape):\n",
        "    X_input = tf.keras.layers.Input(input_shape)\n",
        "    X = tf.keras.layers.Dense(10, activation='relu')(X_input)\n",
        "    X_output = tf.keras.layers.Dense(2, activation='softmax')(X)\n",
        "    model = tf.keras.Model(inputs=X_input, outputs=X_output)\n",
        "    return model"
      ]
    },
    {
      "cell_type": "code",
      "source": [
        "model = createModel((10, 10))\n",
        "\n",
        "print(model.summary())"
      ],
      "metadata": {
        "colab": {
          "base_uri": "https://localhost:8080/",
          "height": 243
        },
        "id": "256mgkowBRu0",
        "outputId": "abdbb6e5-58f9-4c4c-a912-a57eb76e7db7"
      },
      "execution_count": null,
      "outputs": [
        {
          "output_type": "display_data",
          "data": {
            "text/plain": [
              "\u001b[1mModel: \"functional\"\u001b[0m\n"
            ],
            "text/html": [
              "<pre style=\"white-space:pre;overflow-x:auto;line-height:normal;font-family:Menlo,'DejaVu Sans Mono',consolas,'Courier New',monospace\"><span style=\"font-weight: bold\">Model: \"functional\"</span>\n",
              "</pre>\n"
            ]
          },
          "metadata": {}
        },
        {
          "output_type": "display_data",
          "data": {
            "text/plain": [
              "┏━━━━━━━━━━━━━━━━━━━━━━━━━━━━━━━━━┳━━━━━━━━━━━━━━━━━━━━━━━━┳━━━━━━━━━━━━━━━┓\n",
              "┃\u001b[1m \u001b[0m\u001b[1mLayer (type)                   \u001b[0m\u001b[1m \u001b[0m┃\u001b[1m \u001b[0m\u001b[1mOutput Shape          \u001b[0m\u001b[1m \u001b[0m┃\u001b[1m \u001b[0m\u001b[1m      Param #\u001b[0m\u001b[1m \u001b[0m┃\n",
              "┡━━━━━━━━━━━━━━━━━━━━━━━━━━━━━━━━━╇━━━━━━━━━━━━━━━━━━━━━━━━╇━━━━━━━━━━━━━━━┩\n",
              "│ input_layer (\u001b[38;5;33mInputLayer\u001b[0m)        │ (\u001b[38;5;45mNone\u001b[0m, \u001b[38;5;34m10\u001b[0m, \u001b[38;5;34m10\u001b[0m)         │             \u001b[38;5;34m0\u001b[0m │\n",
              "├─────────────────────────────────┼────────────────────────┼───────────────┤\n",
              "│ dense (\u001b[38;5;33mDense\u001b[0m)                   │ (\u001b[38;5;45mNone\u001b[0m, \u001b[38;5;34m10\u001b[0m, \u001b[38;5;34m10\u001b[0m)         │           \u001b[38;5;34m110\u001b[0m │\n",
              "├─────────────────────────────────┼────────────────────────┼───────────────┤\n",
              "│ dense_1 (\u001b[38;5;33mDense\u001b[0m)                 │ (\u001b[38;5;45mNone\u001b[0m, \u001b[38;5;34m10\u001b[0m, \u001b[38;5;34m2\u001b[0m)          │            \u001b[38;5;34m22\u001b[0m │\n",
              "└─────────────────────────────────┴────────────────────────┴───────────────┘\n"
            ],
            "text/html": [
              "<pre style=\"white-space:pre;overflow-x:auto;line-height:normal;font-family:Menlo,'DejaVu Sans Mono',consolas,'Courier New',monospace\">┏━━━━━━━━━━━━━━━━━━━━━━━━━━━━━━━━━┳━━━━━━━━━━━━━━━━━━━━━━━━┳━━━━━━━━━━━━━━━┓\n",
              "┃<span style=\"font-weight: bold\"> Layer (type)                    </span>┃<span style=\"font-weight: bold\"> Output Shape           </span>┃<span style=\"font-weight: bold\">       Param # </span>┃\n",
              "┡━━━━━━━━━━━━━━━━━━━━━━━━━━━━━━━━━╇━━━━━━━━━━━━━━━━━━━━━━━━╇━━━━━━━━━━━━━━━┩\n",
              "│ input_layer (<span style=\"color: #0087ff; text-decoration-color: #0087ff\">InputLayer</span>)        │ (<span style=\"color: #00d7ff; text-decoration-color: #00d7ff\">None</span>, <span style=\"color: #00af00; text-decoration-color: #00af00\">10</span>, <span style=\"color: #00af00; text-decoration-color: #00af00\">10</span>)         │             <span style=\"color: #00af00; text-decoration-color: #00af00\">0</span> │\n",
              "├─────────────────────────────────┼────────────────────────┼───────────────┤\n",
              "│ dense (<span style=\"color: #0087ff; text-decoration-color: #0087ff\">Dense</span>)                   │ (<span style=\"color: #00d7ff; text-decoration-color: #00d7ff\">None</span>, <span style=\"color: #00af00; text-decoration-color: #00af00\">10</span>, <span style=\"color: #00af00; text-decoration-color: #00af00\">10</span>)         │           <span style=\"color: #00af00; text-decoration-color: #00af00\">110</span> │\n",
              "├─────────────────────────────────┼────────────────────────┼───────────────┤\n",
              "│ dense_1 (<span style=\"color: #0087ff; text-decoration-color: #0087ff\">Dense</span>)                 │ (<span style=\"color: #00d7ff; text-decoration-color: #00d7ff\">None</span>, <span style=\"color: #00af00; text-decoration-color: #00af00\">10</span>, <span style=\"color: #00af00; text-decoration-color: #00af00\">2</span>)          │            <span style=\"color: #00af00; text-decoration-color: #00af00\">22</span> │\n",
              "└─────────────────────────────────┴────────────────────────┴───────────────┘\n",
              "</pre>\n"
            ]
          },
          "metadata": {}
        },
        {
          "output_type": "display_data",
          "data": {
            "text/plain": [
              "\u001b[1m Total params: \u001b[0m\u001b[38;5;34m132\u001b[0m (528.00 B)\n"
            ],
            "text/html": [
              "<pre style=\"white-space:pre;overflow-x:auto;line-height:normal;font-family:Menlo,'DejaVu Sans Mono',consolas,'Courier New',monospace\"><span style=\"font-weight: bold\"> Total params: </span><span style=\"color: #00af00; text-decoration-color: #00af00\">132</span> (528.00 B)\n",
              "</pre>\n"
            ]
          },
          "metadata": {}
        },
        {
          "output_type": "display_data",
          "data": {
            "text/plain": [
              "\u001b[1m Trainable params: \u001b[0m\u001b[38;5;34m132\u001b[0m (528.00 B)\n"
            ],
            "text/html": [
              "<pre style=\"white-space:pre;overflow-x:auto;line-height:normal;font-family:Menlo,'DejaVu Sans Mono',consolas,'Courier New',monospace\"><span style=\"font-weight: bold\"> Trainable params: </span><span style=\"color: #00af00; text-decoration-color: #00af00\">132</span> (528.00 B)\n",
              "</pre>\n"
            ]
          },
          "metadata": {}
        },
        {
          "output_type": "display_data",
          "data": {
            "text/plain": [
              "\u001b[1m Non-trainable params: \u001b[0m\u001b[38;5;34m0\u001b[0m (0.00 B)\n"
            ],
            "text/html": [
              "<pre style=\"white-space:pre;overflow-x:auto;line-height:normal;font-family:Menlo,'DejaVu Sans Mono',consolas,'Courier New',monospace\"><span style=\"font-weight: bold\"> Non-trainable params: </span><span style=\"color: #00af00; text-decoration-color: #00af00\">0</span> (0.00 B)\n",
              "</pre>\n"
            ]
          },
          "metadata": {}
        },
        {
          "output_type": "stream",
          "name": "stdout",
          "text": [
            "None\n"
          ]
        }
      ]
    },
    {
      "cell_type": "code",
      "source": [
        "print('Initial Layer Weights')\n",
        "for i in range(1, len(model.layers)):\n",
        "    print(f'Weight for Layer {i}:')\n",
        "    print(model.layers[i].get_weights()[0])\n",
        "    print()"
      ],
      "metadata": {
        "colab": {
          "base_uri": "https://localhost:8080/"
        },
        "id": "4MwKeNYLBdj5",
        "outputId": "055e1cd3-015a-475b-d761-1425880cb29e"
      },
      "execution_count": null,
      "outputs": [
        {
          "output_type": "stream",
          "name": "stdout",
          "text": [
            "Initial Layer Weights\n",
            "Weight for Layer 1:\n",
            "[[-0.17856225 -0.22035018 -0.5402475   0.371338   -0.14241728  0.44549668\n",
            "  -0.3243624   0.39988947  0.00707144 -0.17822716]\n",
            " [ 0.00154734 -0.08269396  0.4129017   0.5470849  -0.26964164  0.4449653\n",
            "   0.49265814 -0.43796465  0.19499183  0.02598989]\n",
            " [ 0.01385176 -0.28654093 -0.01071638 -0.28954807  0.20992684 -0.08206624\n",
            "   0.30090356  0.42230296 -0.4766984   0.28576237]\n",
            " [-0.31642097  0.24863642 -0.5089359   0.3843215  -0.50926113  0.12830418\n",
            "  -0.5416282   0.16686672 -0.15479901  0.40972424]\n",
            " [-0.28771386  0.15471429  0.40897453 -0.38036275 -0.336753    0.0282976\n",
            "   0.20009804 -0.37510872 -0.08945304  0.37220222]\n",
            " [ 0.3900547   0.45597184  0.1567437   0.52512264 -0.27634755 -0.26173025\n",
            "  -0.44285017 -0.18766025 -0.5428983  -0.11806563]\n",
            " [-0.27232766 -0.45092022 -0.32544053  0.34354693 -0.03392458  0.02159601\n",
            "  -0.51198035  0.03099853 -0.20365393  0.4078874 ]\n",
            " [-0.34806317 -0.22935244 -0.2349199  -0.37761128 -0.43325567  0.34811842\n",
            "   0.22225243 -0.38791996  0.28022808  0.02521664]\n",
            " [ 0.19499522 -0.12813011  0.02991033  0.17233914  0.32799155  0.31448764\n",
            "   0.4880638   0.10252941  0.41677868 -0.21211821]\n",
            " [-0.15026987  0.4944458   0.11764109  0.00554317  0.4221508  -0.5242497\n",
            "  -0.22372949  0.49740648  0.3438092   0.02698779]]\n",
            "\n",
            "Weight for Layer 2:\n",
            "[[-0.32717216  0.30040032]\n",
            " [-0.23311725  0.09835523]\n",
            " [-0.10663658  0.10369897]\n",
            " [-0.00726563 -0.53238314]\n",
            " [-0.14441699 -0.3591707 ]\n",
            " [-0.3630988   0.5436185 ]\n",
            " [-0.0129959  -0.69121015]\n",
            " [ 0.681981   -0.15944117]\n",
            " [ 0.32759613  0.16865432]\n",
            " [ 0.45137388 -0.33888325]]\n",
            "\n"
          ]
        }
      ]
    },
    {
      "cell_type": "code",
      "source": [
        "tf.random.set_seed(5)\n",
        "\n",
        "X = tf.random.normal((2, 10, 10))\n",
        "Y = tf.random.normal((2, 10, 2))"
      ],
      "metadata": {
        "id": "vFI73OnQBh9v"
      },
      "execution_count": null,
      "outputs": []
    },
    {
      "cell_type": "code",
      "source": [
        "model.compile(optimizer='adam',\n",
        "              loss='categorical_crossentropy',\n",
        "              metrics=['accuracy'])\n",
        "\n",
        "print(model.optimizer.get_config())"
      ],
      "metadata": {
        "id": "9ui6JAQ1Blpb",
        "outputId": "9913d8d3-86f8-4c9e-fd92-0155edd5dbeb",
        "colab": {
          "base_uri": "https://localhost:8080/"
        }
      },
      "execution_count": null,
      "outputs": [
        {
          "output_type": "stream",
          "name": "stdout",
          "text": [
            "{'name': 'adam', 'learning_rate': 0.0010000000474974513, 'weight_decay': None, 'clipnorm': None, 'global_clipnorm': None, 'clipvalue': None, 'use_ema': False, 'ema_momentum': 0.99, 'ema_overwrite_frequency': None, 'loss_scale_factor': None, 'gradient_accumulation_steps': None, 'beta_1': 0.9, 'beta_2': 0.999, 'epsilon': 1e-07, 'amsgrad': False}\n"
          ]
        }
      ]
    },
    {
      "cell_type": "code",
      "source": [
        "model.fit(X, Y)\n",
        "\n",
        "print('Final Layer Weights')\n",
        "for i in range(1, len(model.layers)):\n",
        "    print(f'Weight for Layer {i}:')\n",
        "    print(model.layers[i].get_weights()[0])\n",
        "    print()"
      ],
      "metadata": {
        "id": "otJd3hhcBpMt",
        "outputId": "2a0a2b41-7b37-4a2d-f138-19d2a033bfec",
        "colab": {
          "base_uri": "https://localhost:8080/"
        }
      },
      "execution_count": null,
      "outputs": [
        {
          "output_type": "stream",
          "name": "stdout",
          "text": [
            "\u001b[1m1/1\u001b[0m \u001b[32m━━━━━━━━━━━━━━━━━━━━\u001b[0m\u001b[37m\u001b[0m \u001b[1m1s\u001b[0m 1s/step - accuracy: 0.3500 - loss: 0.0441\n",
            "Final Layer Weights\n",
            "Weight for Layer 1:\n",
            "[[-0.17756234 -0.2193503  -0.5392487   0.37233794 -0.14141735  0.4464966\n",
            "  -0.32536224  0.39888948  0.00607152 -0.17922713]\n",
            " [ 0.0025473  -0.08169401  0.41390163  0.5480848  -0.26864168  0.44596517\n",
            "   0.4936581  -0.4389646   0.1939919   0.02498996]\n",
            " [ 0.01285188 -0.2855417  -0.00971728 -0.2885482   0.21092664 -0.08306618\n",
            "   0.30190352  0.4233028  -0.47569844  0.28476262]\n",
            " [-0.3154211   0.24963637 -0.5079475   0.38332155 -0.51026106  0.12930416\n",
            "  -0.5426281   0.16786665 -0.15379924  0.4087243 ]\n",
            " [-0.28871378  0.15371434  0.40797478 -0.38136274 -0.337753    0.02929748\n",
            "   0.19909805 -0.37410873 -0.08845308  0.37120226]\n",
            " [ 0.38905475  0.4549719   0.1557438   0.52612257 -0.27534762 -0.26273024\n",
            "  -0.44185022 -0.18666027 -0.54189837 -0.11706574]\n",
            " [-0.27132773 -0.45191962 -0.32444066  0.3425471  -0.03492454  0.02059606\n",
            "  -0.51098067  0.02999877 -0.202654    0.4068875 ]\n",
            " [-0.34906313 -0.23035228 -0.23591945 -0.37861112 -0.43225598  0.34911835\n",
            "   0.22325227 -0.38692018  0.281228    0.02421667]\n",
            " [ 0.19599515 -0.12713043  0.03091019  0.17333908  0.3289914   0.31348768\n",
            "   0.48906285  0.10152944  0.41577876 -0.21111824]\n",
            " [-0.15126981  0.4954457   0.11664128  0.00454443  0.42315075 -0.5252496\n",
            "  -0.22272956  0.4964065   0.34280923  0.0259882 ]]\n",
            "\n",
            "Weight for Layer 2:\n",
            "[[-0.32817215  0.29940033]\n",
            " [-0.2341172   0.09735525]\n",
            " [-0.10763655  0.102699  ]\n",
            " [-0.00826561 -0.53338313]\n",
            " [-0.14541698 -0.3601707 ]\n",
            " [-0.3640988   0.5446184 ]\n",
            " [-0.01399588 -0.6902103 ]\n",
            " [ 0.68098104 -0.16044115]\n",
            " [ 0.32659614  0.1676544 ]\n",
            " [ 0.4503739  -0.33788353]]\n",
            "\n"
          ]
        }
      ]
    }
  ]
}